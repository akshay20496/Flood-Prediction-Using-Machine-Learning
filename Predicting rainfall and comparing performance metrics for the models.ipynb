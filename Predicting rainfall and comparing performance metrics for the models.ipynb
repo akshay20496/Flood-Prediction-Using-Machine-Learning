{
 "cells": [
  {
   "cell_type": "code",
   "execution_count": 1,
   "metadata": {},
   "outputs": [],
   "source": [
    "import pandas as pd\n",
    "from sklearn.preprocessing import StandardScaler\n",
    "from sklearn import preprocessing \n",
    "from sklearn.pipeline import Pipeline"
   ]
  },
  {
   "cell_type": "code",
   "execution_count": 2,
   "metadata": {},
   "outputs": [
    {
     "data": {
      "text/html": [
       "<div>\n",
       "<style scoped>\n",
       "    .dataframe tbody tr th:only-of-type {\n",
       "        vertical-align: middle;\n",
       "    }\n",
       "\n",
       "    .dataframe tbody tr th {\n",
       "        vertical-align: top;\n",
       "    }\n",
       "\n",
       "    .dataframe thead th {\n",
       "        text-align: right;\n",
       "    }\n",
       "</style>\n",
       "<table border=\"1\" class=\"dataframe\">\n",
       "  <thead>\n",
       "    <tr style=\"text-align: right;\">\n",
       "      <th></th>\n",
       "      <th>SUBDIVISION</th>\n",
       "      <th>YEAR</th>\n",
       "      <th>JAN</th>\n",
       "      <th>FEB</th>\n",
       "      <th>MAR</th>\n",
       "      <th>APR</th>\n",
       "      <th>MAY</th>\n",
       "      <th>JUN</th>\n",
       "      <th>JUL</th>\n",
       "      <th>AUG</th>\n",
       "      <th>SEP</th>\n",
       "      <th>OCT</th>\n",
       "      <th>NOV</th>\n",
       "      <th>DEC</th>\n",
       "      <th>ANNUAL</th>\n",
       "      <th>Jan-Feb</th>\n",
       "      <th>Mar-May</th>\n",
       "      <th>Jun-Sep</th>\n",
       "      <th>Oct-Dec</th>\n",
       "    </tr>\n",
       "  </thead>\n",
       "  <tbody>\n",
       "    <tr>\n",
       "      <th>0</th>\n",
       "      <td>ANDAMAN &amp; NICOBAR ISLANDS</td>\n",
       "      <td>1901</td>\n",
       "      <td>49.2</td>\n",
       "      <td>87.1</td>\n",
       "      <td>29.2</td>\n",
       "      <td>2.3</td>\n",
       "      <td>528.8</td>\n",
       "      <td>517.5</td>\n",
       "      <td>365.1</td>\n",
       "      <td>481.1</td>\n",
       "      <td>332.6</td>\n",
       "      <td>388.5</td>\n",
       "      <td>558.2</td>\n",
       "      <td>33.6</td>\n",
       "      <td>3373.2</td>\n",
       "      <td>136.3</td>\n",
       "      <td>560.3</td>\n",
       "      <td>1696.3</td>\n",
       "      <td>980.3</td>\n",
       "    </tr>\n",
       "    <tr>\n",
       "      <th>1</th>\n",
       "      <td>ANDAMAN &amp; NICOBAR ISLANDS</td>\n",
       "      <td>1902</td>\n",
       "      <td>0.0</td>\n",
       "      <td>159.8</td>\n",
       "      <td>12.2</td>\n",
       "      <td>0.0</td>\n",
       "      <td>446.1</td>\n",
       "      <td>537.1</td>\n",
       "      <td>228.9</td>\n",
       "      <td>753.7</td>\n",
       "      <td>666.2</td>\n",
       "      <td>197.2</td>\n",
       "      <td>359.0</td>\n",
       "      <td>160.5</td>\n",
       "      <td>3520.7</td>\n",
       "      <td>159.8</td>\n",
       "      <td>458.3</td>\n",
       "      <td>2185.9</td>\n",
       "      <td>716.7</td>\n",
       "    </tr>\n",
       "    <tr>\n",
       "      <th>2</th>\n",
       "      <td>ANDAMAN &amp; NICOBAR ISLANDS</td>\n",
       "      <td>1903</td>\n",
       "      <td>12.7</td>\n",
       "      <td>144.0</td>\n",
       "      <td>0.0</td>\n",
       "      <td>1.0</td>\n",
       "      <td>235.1</td>\n",
       "      <td>479.9</td>\n",
       "      <td>728.4</td>\n",
       "      <td>326.7</td>\n",
       "      <td>339.0</td>\n",
       "      <td>181.2</td>\n",
       "      <td>284.4</td>\n",
       "      <td>225.0</td>\n",
       "      <td>2957.4</td>\n",
       "      <td>156.7</td>\n",
       "      <td>236.1</td>\n",
       "      <td>1874.0</td>\n",
       "      <td>690.6</td>\n",
       "    </tr>\n",
       "    <tr>\n",
       "      <th>3</th>\n",
       "      <td>ANDAMAN &amp; NICOBAR ISLANDS</td>\n",
       "      <td>1904</td>\n",
       "      <td>9.4</td>\n",
       "      <td>14.7</td>\n",
       "      <td>0.0</td>\n",
       "      <td>202.4</td>\n",
       "      <td>304.5</td>\n",
       "      <td>495.1</td>\n",
       "      <td>502.0</td>\n",
       "      <td>160.1</td>\n",
       "      <td>820.4</td>\n",
       "      <td>222.2</td>\n",
       "      <td>308.7</td>\n",
       "      <td>40.1</td>\n",
       "      <td>3079.6</td>\n",
       "      <td>24.1</td>\n",
       "      <td>506.9</td>\n",
       "      <td>1977.6</td>\n",
       "      <td>571.0</td>\n",
       "    </tr>\n",
       "    <tr>\n",
       "      <th>4</th>\n",
       "      <td>ANDAMAN &amp; NICOBAR ISLANDS</td>\n",
       "      <td>1905</td>\n",
       "      <td>1.3</td>\n",
       "      <td>0.0</td>\n",
       "      <td>3.3</td>\n",
       "      <td>26.9</td>\n",
       "      <td>279.5</td>\n",
       "      <td>628.7</td>\n",
       "      <td>368.7</td>\n",
       "      <td>330.5</td>\n",
       "      <td>297.0</td>\n",
       "      <td>260.7</td>\n",
       "      <td>25.4</td>\n",
       "      <td>344.7</td>\n",
       "      <td>2566.7</td>\n",
       "      <td>1.3</td>\n",
       "      <td>309.7</td>\n",
       "      <td>1624.9</td>\n",
       "      <td>630.8</td>\n",
       "    </tr>\n",
       "  </tbody>\n",
       "</table>\n",
       "</div>"
      ],
      "text/plain": [
       "                 SUBDIVISION  YEAR   JAN    FEB   MAR    APR    MAY    JUN  \\\n",
       "0  ANDAMAN & NICOBAR ISLANDS  1901  49.2   87.1  29.2    2.3  528.8  517.5   \n",
       "1  ANDAMAN & NICOBAR ISLANDS  1902   0.0  159.8  12.2    0.0  446.1  537.1   \n",
       "2  ANDAMAN & NICOBAR ISLANDS  1903  12.7  144.0   0.0    1.0  235.1  479.9   \n",
       "3  ANDAMAN & NICOBAR ISLANDS  1904   9.4   14.7   0.0  202.4  304.5  495.1   \n",
       "4  ANDAMAN & NICOBAR ISLANDS  1905   1.3    0.0   3.3   26.9  279.5  628.7   \n",
       "\n",
       "     JUL    AUG    SEP    OCT    NOV    DEC  ANNUAL  Jan-Feb  Mar-May  \\\n",
       "0  365.1  481.1  332.6  388.5  558.2   33.6  3373.2    136.3    560.3   \n",
       "1  228.9  753.7  666.2  197.2  359.0  160.5  3520.7    159.8    458.3   \n",
       "2  728.4  326.7  339.0  181.2  284.4  225.0  2957.4    156.7    236.1   \n",
       "3  502.0  160.1  820.4  222.2  308.7   40.1  3079.6     24.1    506.9   \n",
       "4  368.7  330.5  297.0  260.7   25.4  344.7  2566.7      1.3    309.7   \n",
       "\n",
       "   Jun-Sep  Oct-Dec  \n",
       "0   1696.3    980.3  \n",
       "1   2185.9    716.7  \n",
       "2   1874.0    690.6  \n",
       "3   1977.6    571.0  \n",
       "4   1624.9    630.8  "
      ]
     },
     "execution_count": 2,
     "metadata": {},
     "output_type": "execute_result"
    }
   ],
   "source": [
    "df = pd.read_csv(\"rainfall.csv\")\n",
    "df.head()"
   ]
  },
  {
   "cell_type": "code",
   "execution_count": 3,
   "metadata": {
    "scrolled": true
   },
   "outputs": [
    {
     "data": {
      "text/html": [
       "<div>\n",
       "<style scoped>\n",
       "    .dataframe tbody tr th:only-of-type {\n",
       "        vertical-align: middle;\n",
       "    }\n",
       "\n",
       "    .dataframe tbody tr th {\n",
       "        vertical-align: top;\n",
       "    }\n",
       "\n",
       "    .dataframe thead th {\n",
       "        text-align: right;\n",
       "    }\n",
       "</style>\n",
       "<table border=\"1\" class=\"dataframe\">\n",
       "  <thead>\n",
       "    <tr style=\"text-align: right;\">\n",
       "      <th></th>\n",
       "      <th>SUBDIVISION</th>\n",
       "      <th>YEAR</th>\n",
       "      <th>JAN</th>\n",
       "      <th>FEB</th>\n",
       "      <th>MAR</th>\n",
       "      <th>APR</th>\n",
       "      <th>MAY</th>\n",
       "      <th>JUN</th>\n",
       "      <th>JUL</th>\n",
       "      <th>AUG</th>\n",
       "      <th>SEP</th>\n",
       "      <th>OCT</th>\n",
       "      <th>NOV</th>\n",
       "      <th>DEC</th>\n",
       "      <th>ANNUAL</th>\n",
       "      <th>Jan-Feb</th>\n",
       "      <th>Mar-May</th>\n",
       "      <th>Jun-Sep</th>\n",
       "      <th>Oct-Dec</th>\n",
       "    </tr>\n",
       "  </thead>\n",
       "  <tbody>\n",
       "  </tbody>\n",
       "</table>\n",
       "</div>"
      ],
      "text/plain": [
       "Empty DataFrame\n",
       "Columns: [SUBDIVISION, YEAR, JAN, FEB, MAR, APR, MAY, JUN, JUL, AUG, SEP, OCT, NOV, DEC, ANNUAL, Jan-Feb, Mar-May, Jun-Sep, Oct-Dec]\n",
       "Index: []"
      ]
     },
     "execution_count": 3,
     "metadata": {},
     "output_type": "execute_result"
    }
   ],
   "source": [
    "df.head(0)"
   ]
  },
  {
   "cell_type": "markdown",
   "metadata": {},
   "source": [
    "# Data Preparation for Predictions"
   ]
  },
  {
   "cell_type": "code",
   "execution_count": 4,
   "metadata": {},
   "outputs": [
    {
     "name": "stdout",
     "output_type": "stream",
     "text": [
      "['SUBDIVISION', 'YEAR', 'MAY', 'JUN', 'JUL']\n"
     ]
    }
   ],
   "source": [
    "features = []\n",
    "for element in df.head(0):\n",
    "    features.append(element)\n",
    "features.remove('ANNUAL')\n",
    "features.remove('JAN')\n",
    "features.remove('FEB')\n",
    "features.remove('MAR')\n",
    "features.remove('APR')\n",
    "features.remove('OCT')\n",
    "features.remove('NOV')\n",
    "features.remove('DEC')\n",
    "features.remove('AUG')\n",
    "features.remove('SEP')\n",
    "features.remove('Jan-Feb')\n",
    "features.remove('Mar-May')\n",
    "features.remove('Jun-Sep')\n",
    "features.remove('Oct-Dec')\n",
    "print(features)"
   ]
  },
  {
   "cell_type": "code",
   "execution_count": 5,
   "metadata": {
    "scrolled": true
   },
   "outputs": [
    {
     "name": "stdout",
     "output_type": "stream",
     "text": [
      "{'ANDAMAN & NICOBAR ISLANDS': 1, 'ARUNACHAL PRADESH': 2, 'ASSAM & MEGHALAYA': 3, 'NAGA MANI MIZO TRIPURA': 4, 'SUB HIMALAYAN WEST BENGAL & SIKKIM': 5, 'GANGETIC WEST BENGAL': 6, 'ORISSA': 7, 'JHARKHAND': 8, 'BIHAR': 9, 'EAST UTTAR PRADESH': 10, 'WEST UTTAR PRADESH': 11, 'UTTARAKHAND': 12, 'HARYANA DELHI & CHANDIGARH': 13, 'PUNJAB': 14, 'HIMACHAL PRADESH': 15, 'JAMMU & KASHMIR': 16, 'WEST RAJASTHAN': 17, 'EAST RAJASTHAN': 18, 'WEST MADHYA PRADESH': 19, 'EAST MADHYA PRADESH': 20, 'GUJARAT REGION': 21, 'SAURASHTRA & KUTCH': 22, 'KONKAN & GOA': 23, 'MADHYA MAHARASHTRA': 24, 'MATATHWADA': 25, 'VIDARBHA': 26, 'CHHATTISGARH': 27, 'COASTAL ANDHRA PRADESH': 28, 'TELANGANA': 29, 'RAYALSEEMA': 30, 'TAMIL NADU': 31, 'COASTAL KARNATAKA': 32, 'NORTH INTERIOR KARNATAKA': 33, 'SOUTH INTERIOR KARNATAKA': 34, 'KERALA': 35, 'LAKSHADWEEP': 36}\n"
     ]
    },
    {
     "data": {
      "text/html": [
       "<div>\n",
       "<style scoped>\n",
       "    .dataframe tbody tr th:only-of-type {\n",
       "        vertical-align: middle;\n",
       "    }\n",
       "\n",
       "    .dataframe tbody tr th {\n",
       "        vertical-align: top;\n",
       "    }\n",
       "\n",
       "    .dataframe thead th {\n",
       "        text-align: right;\n",
       "    }\n",
       "</style>\n",
       "<table border=\"1\" class=\"dataframe\">\n",
       "  <thead>\n",
       "    <tr style=\"text-align: right;\">\n",
       "      <th></th>\n",
       "      <th>SUBDIVISION</th>\n",
       "      <th>YEAR</th>\n",
       "      <th>JAN</th>\n",
       "      <th>FEB</th>\n",
       "      <th>MAR</th>\n",
       "      <th>APR</th>\n",
       "      <th>MAY</th>\n",
       "      <th>JUN</th>\n",
       "      <th>JUL</th>\n",
       "      <th>AUG</th>\n",
       "      <th>SEP</th>\n",
       "      <th>OCT</th>\n",
       "      <th>NOV</th>\n",
       "      <th>DEC</th>\n",
       "      <th>ANNUAL</th>\n",
       "      <th>Jan-Feb</th>\n",
       "      <th>Mar-May</th>\n",
       "      <th>Jun-Sep</th>\n",
       "      <th>Oct-Dec</th>\n",
       "    </tr>\n",
       "  </thead>\n",
       "  <tbody>\n",
       "    <tr>\n",
       "      <th>0</th>\n",
       "      <td>1</td>\n",
       "      <td>1901</td>\n",
       "      <td>49.2</td>\n",
       "      <td>87.1</td>\n",
       "      <td>29.2</td>\n",
       "      <td>2.3</td>\n",
       "      <td>528.8</td>\n",
       "      <td>517.5</td>\n",
       "      <td>365.1</td>\n",
       "      <td>481.1</td>\n",
       "      <td>332.6</td>\n",
       "      <td>388.5</td>\n",
       "      <td>558.2</td>\n",
       "      <td>33.6</td>\n",
       "      <td>3373.2</td>\n",
       "      <td>136.3</td>\n",
       "      <td>560.3</td>\n",
       "      <td>1696.3</td>\n",
       "      <td>980.3</td>\n",
       "    </tr>\n",
       "    <tr>\n",
       "      <th>1</th>\n",
       "      <td>1</td>\n",
       "      <td>1902</td>\n",
       "      <td>0.0</td>\n",
       "      <td>159.8</td>\n",
       "      <td>12.2</td>\n",
       "      <td>0.0</td>\n",
       "      <td>446.1</td>\n",
       "      <td>537.1</td>\n",
       "      <td>228.9</td>\n",
       "      <td>753.7</td>\n",
       "      <td>666.2</td>\n",
       "      <td>197.2</td>\n",
       "      <td>359.0</td>\n",
       "      <td>160.5</td>\n",
       "      <td>3520.7</td>\n",
       "      <td>159.8</td>\n",
       "      <td>458.3</td>\n",
       "      <td>2185.9</td>\n",
       "      <td>716.7</td>\n",
       "    </tr>\n",
       "    <tr>\n",
       "      <th>2</th>\n",
       "      <td>1</td>\n",
       "      <td>1903</td>\n",
       "      <td>12.7</td>\n",
       "      <td>144.0</td>\n",
       "      <td>0.0</td>\n",
       "      <td>1.0</td>\n",
       "      <td>235.1</td>\n",
       "      <td>479.9</td>\n",
       "      <td>728.4</td>\n",
       "      <td>326.7</td>\n",
       "      <td>339.0</td>\n",
       "      <td>181.2</td>\n",
       "      <td>284.4</td>\n",
       "      <td>225.0</td>\n",
       "      <td>2957.4</td>\n",
       "      <td>156.7</td>\n",
       "      <td>236.1</td>\n",
       "      <td>1874.0</td>\n",
       "      <td>690.6</td>\n",
       "    </tr>\n",
       "    <tr>\n",
       "      <th>3</th>\n",
       "      <td>1</td>\n",
       "      <td>1904</td>\n",
       "      <td>9.4</td>\n",
       "      <td>14.7</td>\n",
       "      <td>0.0</td>\n",
       "      <td>202.4</td>\n",
       "      <td>304.5</td>\n",
       "      <td>495.1</td>\n",
       "      <td>502.0</td>\n",
       "      <td>160.1</td>\n",
       "      <td>820.4</td>\n",
       "      <td>222.2</td>\n",
       "      <td>308.7</td>\n",
       "      <td>40.1</td>\n",
       "      <td>3079.6</td>\n",
       "      <td>24.1</td>\n",
       "      <td>506.9</td>\n",
       "      <td>1977.6</td>\n",
       "      <td>571.0</td>\n",
       "    </tr>\n",
       "    <tr>\n",
       "      <th>4</th>\n",
       "      <td>1</td>\n",
       "      <td>1905</td>\n",
       "      <td>1.3</td>\n",
       "      <td>0.0</td>\n",
       "      <td>3.3</td>\n",
       "      <td>26.9</td>\n",
       "      <td>279.5</td>\n",
       "      <td>628.7</td>\n",
       "      <td>368.7</td>\n",
       "      <td>330.5</td>\n",
       "      <td>297.0</td>\n",
       "      <td>260.7</td>\n",
       "      <td>25.4</td>\n",
       "      <td>344.7</td>\n",
       "      <td>2566.7</td>\n",
       "      <td>1.3</td>\n",
       "      <td>309.7</td>\n",
       "      <td>1624.9</td>\n",
       "      <td>630.8</td>\n",
       "    </tr>\n",
       "  </tbody>\n",
       "</table>\n",
       "</div>"
      ],
      "text/plain": [
       "   SUBDIVISION  YEAR   JAN    FEB   MAR    APR    MAY    JUN    JUL    AUG  \\\n",
       "0            1  1901  49.2   87.1  29.2    2.3  528.8  517.5  365.1  481.1   \n",
       "1            1  1902   0.0  159.8  12.2    0.0  446.1  537.1  228.9  753.7   \n",
       "2            1  1903  12.7  144.0   0.0    1.0  235.1  479.9  728.4  326.7   \n",
       "3            1  1904   9.4   14.7   0.0  202.4  304.5  495.1  502.0  160.1   \n",
       "4            1  1905   1.3    0.0   3.3   26.9  279.5  628.7  368.7  330.5   \n",
       "\n",
       "     SEP    OCT    NOV    DEC  ANNUAL  Jan-Feb  Mar-May  Jun-Sep  Oct-Dec  \n",
       "0  332.6  388.5  558.2   33.6  3373.2    136.3    560.3   1696.3    980.3  \n",
       "1  666.2  197.2  359.0  160.5  3520.7    159.8    458.3   2185.9    716.7  \n",
       "2  339.0  181.2  284.4  225.0  2957.4    156.7    236.1   1874.0    690.6  \n",
       "3  820.4  222.2  308.7   40.1  3079.6     24.1    506.9   1977.6    571.0  \n",
       "4  297.0  260.7   25.4  344.7  2566.7      1.3    309.7   1624.9    630.8  "
      ]
     },
     "execution_count": 5,
     "metadata": {},
     "output_type": "execute_result"
    }
   ],
   "source": [
    "#Changing SUBDIVISION to unique numbers\n",
    "df.SUBDIVISION.unique()\n",
    "dictionary = {}\n",
    "for c, value in enumerate(df.SUBDIVISION.unique(), 1):\n",
    "#     print(c, value)\n",
    "    dictionary[value] = c\n",
    "print(dictionary)\n",
    "df[\"SUBDIVISION\"] = df.SUBDIVISION.map(dictionary)\n",
    "df.head()"
   ]
  },
  {
   "cell_type": "markdown",
   "metadata": {},
   "source": [
    "# Handling the NA values"
   ]
  },
  {
   "cell_type": "code",
   "execution_count": 6,
   "metadata": {},
   "outputs": [
    {
     "data": {
      "text/plain": [
       "(4116, 19)"
      ]
     },
     "execution_count": 6,
     "metadata": {},
     "output_type": "execute_result"
    }
   ],
   "source": [
    "df.shape"
   ]
  },
  {
   "cell_type": "code",
   "execution_count": 7,
   "metadata": {
    "scrolled": true
   },
   "outputs": [
    {
     "data": {
      "text/plain": [
       "SUBDIVISION     0\n",
       "YEAR            0\n",
       "JAN             4\n",
       "FEB             3\n",
       "MAR             6\n",
       "APR             4\n",
       "MAY             3\n",
       "JUN             5\n",
       "JUL             7\n",
       "AUG             4\n",
       "SEP             6\n",
       "OCT             7\n",
       "NOV            11\n",
       "DEC            10\n",
       "ANNUAL         26\n",
       "Jan-Feb         6\n",
       "Mar-May         9\n",
       "Jun-Sep        10\n",
       "Oct-Dec        13\n",
       "dtype: int64"
      ]
     },
     "execution_count": 7,
     "metadata": {},
     "output_type": "execute_result"
    }
   ],
   "source": [
    "df.isna().sum()"
   ]
  },
  {
   "cell_type": "code",
   "execution_count": 8,
   "metadata": {},
   "outputs": [],
   "source": [
    "df.dropna(inplace=True)"
   ]
  },
  {
   "cell_type": "code",
   "execution_count": 9,
   "metadata": {},
   "outputs": [],
   "source": [
    "features_1 = ['AUG']"
   ]
  },
  {
   "cell_type": "code",
   "execution_count": 10,
   "metadata": {},
   "outputs": [],
   "source": [
    "# Separating out the features\n",
    "x  = df.loc[:, features].values\n",
    "# Separating out the target\n",
    "y = df.loc[:,features_1].values"
   ]
  },
  {
   "cell_type": "markdown",
   "metadata": {},
   "source": [
    "# Split the data into training set and test set"
   ]
  },
  {
   "cell_type": "code",
   "execution_count": 11,
   "metadata": {},
   "outputs": [],
   "source": [
    "from sklearn.model_selection import train_test_split\n",
    "X_train, X_test, y_train, y_test = train_test_split(x, y, test_size=0.33, random_state=42)"
   ]
  },
  {
   "cell_type": "markdown",
   "metadata": {},
   "source": [
    "# Dimensionality Reduction\n",
    "Dimensionality reduction, or dimension reduction, is the transformation of data from a high-dimensional space into a low-dimensional space so that the low-dimensional representation retains some meaningful properties of the original data, ideally close to its intrinsic dimension."
   ]
  },
  {
   "cell_type": "code",
   "execution_count": 12,
   "metadata": {},
   "outputs": [
    {
     "data": {
      "text/plain": [
       "PCA(copy=True, iterated_power='auto', n_components=4, random_state=None,\n",
       "    svd_solver='auto', tol=0.0, whiten=False)"
      ]
     },
     "execution_count": 12,
     "metadata": {},
     "output_type": "execute_result"
    }
   ],
   "source": [
    "from sklearn.decomposition import PCA \n",
    "pca = PCA(n_components=4)\n",
    "pca.fit(x)"
   ]
  },
  {
   "cell_type": "code",
   "execution_count": 13,
   "metadata": {},
   "outputs": [
    {
     "name": "stdout",
     "output_type": "stream",
     "text": [
      "[0.79961129 0.13708166 0.05500135 0.00766329]\n"
     ]
    }
   ],
   "source": [
    "print(pca.explained_variance_ratio_)"
   ]
  },
  {
   "cell_type": "code",
   "execution_count": 14,
   "metadata": {},
   "outputs": [
    {
     "data": {
      "text/plain": [
       "-28.109682057097007"
      ]
     },
     "execution_count": 14,
     "metadata": {},
     "output_type": "execute_result"
    }
   ],
   "source": [
    "pca.score(x,y)"
   ]
  },
  {
   "cell_type": "markdown",
   "metadata": {},
   "source": [
    "In the PCA analysis negative values of loadings of variable in the components of the PCA means the existence of an inverse correlation between the factor PCA and the variables."
   ]
  },
  {
   "cell_type": "code",
   "execution_count": 15,
   "metadata": {},
   "outputs": [
    {
     "data": {
      "text/plain": [
       "array([-34.59383444, -33.35279304, -29.40501404, ..., -29.68343251,\n",
       "       -29.40966052, -29.27052782])"
      ]
     },
     "execution_count": 15,
     "metadata": {},
     "output_type": "execute_result"
    }
   ],
   "source": [
    "pca.score_samples(x)"
   ]
  },
  {
   "cell_type": "markdown",
   "metadata": {},
   "source": [
    "# Model 1 - Support Vector Machine (SVM)"
   ]
  },
  {
   "cell_type": "code",
   "execution_count": 16,
   "metadata": {},
   "outputs": [
    {
     "name": "stderr",
     "output_type": "stream",
     "text": [
      "D:\\anaconda\\lib\\site-packages\\sklearn\\utils\\validation.py:760: DataConversionWarning: A column-vector y was passed when a 1d array was expected. Please change the shape of y to (n_samples, ), for example using ravel().\n",
      "  y = column_or_1d(y, warn=True)\n"
     ]
    },
    {
     "data": {
      "text/plain": [
       "SVR(C=1.0, cache_size=200, coef0=0.0, degree=3, epsilon=0.1, gamma='scale',\n",
       "    kernel='rbf', max_iter=-1, shrinking=True, tol=0.001, verbose=False)"
      ]
     },
     "execution_count": 16,
     "metadata": {},
     "output_type": "execute_result"
    }
   ],
   "source": [
    "from sklearn import svm\n",
    "from sklearn.datasets import make_classification\n",
    "clf = svm.SVR()\n",
    "#X_train, y_train = make_classification()\n",
    "#X_test, y_test = make_classification()\n",
    "clf.fit(X_train, y_train)"
   ]
  },
  {
   "cell_type": "code",
   "execution_count": 17,
   "metadata": {},
   "outputs": [
    {
     "name": "stdout",
     "output_type": "stream",
     "text": [
      "[305.74782415]\n"
     ]
    }
   ],
   "source": [
    "print(clf.intercept_)"
   ]
  },
  {
   "cell_type": "code",
   "execution_count": 18,
   "metadata": {},
   "outputs": [
    {
     "name": "stdout",
     "output_type": "stream",
     "text": [
      "[255.6230235  250.97775992 232.06341112 ... 203.50759715 339.26617698\n",
      " 396.22460212]\n",
      "[[317.4]\n",
      " [203.5]\n",
      " [ 95.5]\n",
      " ...\n",
      " [ 91.5]\n",
      " [479. ]\n",
      " [860.4]]\n"
     ]
    }
   ],
   "source": [
    "y_pred = clf.predict(X_test)\n",
    "print(y_pred)\n",
    "print(y_test)"
   ]
  },
  {
   "cell_type": "code",
   "execution_count": 19,
   "metadata": {
    "scrolled": true
   },
   "outputs": [
    {
     "data": {
      "text/plain": [
       "0.34280429793481726"
      ]
     },
     "execution_count": 19,
     "metadata": {},
     "output_type": "execute_result"
    }
   ],
   "source": [
    "clf.score(X_test, y_test, sample_weight=None)"
   ]
  },
  {
   "cell_type": "code",
   "execution_count": 20,
   "metadata": {},
   "outputs": [
    {
     "name": "stdout",
     "output_type": "stream",
     "text": [
      "109.85604996109512 23083.990469639375\n"
     ]
    }
   ],
   "source": [
    "from sklearn import metrics\n",
    "mae = metrics.mean_absolute_error(y_test,y_pred)\n",
    "mse = metrics.mean_squared_error(y_test,y_pred)\n",
    "print(mae,mse)"
   ]
  },
  {
   "cell_type": "code",
   "execution_count": 31,
   "metadata": {},
   "outputs": [
    {
     "name": "stdout",
     "output_type": "stream",
     "text": [
      "512.1336967611774 23.0\n",
      "512.4125097774979 2.0\n",
      "608.0000545182559 32.0\n",
      "680.5064465552891 2.0\n",
      "536.3288622561134 3.0\n",
      "736.9385127594816 23.0\n",
      "685.3614477110276 32.0\n",
      "603.8963407495901 23.0\n",
      "679.975339928522 2.0\n",
      "638.654227124931 23.0\n",
      "626.4275091910785 32.0\n",
      "689.0830131606632 23.0\n",
      "568.6321898981539 32.0\n",
      "517.1438692163515 23.0\n",
      "760.7390155270068 23.0\n",
      "831.9779485515645 32.0\n",
      "553.1421533538883 23.0\n",
      "564.9296003223704 32.0\n",
      "816.4937245359757 32.0\n",
      "626.2111113382957 32.0\n",
      "743.5278388170223 23.0\n",
      "547.9843422626872 23.0\n",
      "833.7269743798876 32.0\n",
      "597.2978004865945 32.0\n",
      "647.0622177597327 2.0\n",
      "756.1864272074962 23.0\n",
      "580.8712294491602 2.0\n",
      "852.3845941951857 32.0\n",
      "698.3418110202424 23.0\n",
      "838.2682323642105 32.0\n",
      "510.8346995132287 35.0\n",
      "681.3255608446325 23.0\n",
      "1087.1015094554282 2.0\n",
      "811.964305721097 32.0\n",
      "541.8507709189993 4.0\n",
      "511.57364174380467 1.0\n",
      "532.8355847662287 2.0\n",
      "672.4671767478937 32.0\n",
      "802.9301069188328 32.0\n",
      "783.195919140372 32.0\n",
      "501.27558357656267 5.0\n",
      "705.029720324262 2.0\n",
      "663.1434824677184 32.0\n",
      "502.5978122369496 3.0\n",
      "719.5498731677479 32.0\n",
      "706.7791565845637 23.0\n",
      "897.6756010292958 2.0\n",
      "593.9238833828341 32.0\n",
      "566.8192086478891 1.0\n",
      "613.179189890084 5.0\n",
      "692.4628916674641 32.0\n",
      "537.9028865118854 5.0\n",
      "577.6220190158031 23.0\n",
      "703.884905300652 32.0\n",
      "707.3723179663523 32.0\n",
      "646.0671041754872 32.0\n",
      "694.4649294831653 23.0\n",
      "674.2690687385792 32.0\n",
      "687.5438524348125 23.0\n",
      "648.0015930915308 32.0\n",
      "674.3291110806352 32.0\n",
      "845.8605292571939 32.0\n",
      "832.279774631334 23.0\n",
      "683.36201573901 23.0\n",
      "603.1107525690181 5.0\n",
      "559.555134841206 32.0\n",
      "507.0621425563476 3.0\n",
      "894.512016076651 32.0\n",
      "506.1974313236636 5.0\n",
      "529.3038816028961 3.0\n",
      "566.878118339356 35.0\n",
      "575.6810711138056 35.0\n",
      "782.1371381705001 23.0\n",
      "597.4216260371282 3.0\n",
      "751.2194799886202 23.0\n",
      "542.5945417878115 32.0\n",
      "713.5286995216902 23.0\n",
      "751.228825058777 23.0\n",
      "525.5538536937506 5.0\n",
      "643.0292474490159 2.0\n",
      "864.06063840474 23.0\n",
      "506.4063742918301 35.0\n",
      "517.0931230476431 5.0\n",
      "550.6988928807186 23.0\n",
      "738.536507974923 23.0\n",
      "614.0717405918948 23.0\n",
      "501.04411672246664 5.0\n",
      "559.0802175120455 32.0\n",
      "608.848939902043 23.0\n",
      "535.4609620337304 2.0\n",
      "573.8926062754321 5.0\n",
      "599.1623019120354 23.0\n",
      "526.470752570569 36.0\n",
      "709.0763276655096 32.0\n",
      "597.9150114684627 32.0\n",
      "726.9191109101982 23.0\n",
      "660.1041576166506 23.0\n",
      "525.2542973484747 23.0\n",
      "673.1022757727698 32.0\n",
      "703.3514028149533 32.0\n",
      "527.9459916918356 5.0\n",
      "668.4007409452131 2.0\n",
      "764.4658458432087 23.0\n",
      "568.3283989295297 32.0\n",
      "814.6025058653146 32.0\n",
      "512.2722302666401 35.0\n",
      "771.2270179965648 32.0\n",
      "506.7392327752789 2.0\n",
      "557.7407388884014 32.0\n",
      "555.5082071733927 5.0\n"
     ]
    }
   ],
   "source": [
    "#flood prone subdivisions\n",
    "c=0\n",
    "for i in y_pred:\n",
    "    if i>500:\n",
    "        print(i,X_test[c,0])\n",
    "    c+=1"
   ]
  },
  {
   "cell_type": "markdown",
   "metadata": {},
   "source": [
    "# Model 2 - Random Forest"
   ]
  },
  {
   "cell_type": "code",
   "execution_count": 22,
   "metadata": {},
   "outputs": [
    {
     "name": "stderr",
     "output_type": "stream",
     "text": [
      "D:\\anaconda\\lib\\site-packages\\ipykernel_launcher.py:3: DataConversionWarning: A column-vector y was passed when a 1d array was expected. Please change the shape of y to (n_samples,), for example using ravel().\n",
      "  This is separate from the ipykernel package so we can avoid doing imports until\n"
     ]
    },
    {
     "name": "stdout",
     "output_type": "stream",
     "text": [
      "<class 'numpy.ndarray'>\n"
     ]
    }
   ],
   "source": [
    "from sklearn.ensemble import RandomForestRegressor\n",
    "clf = RandomForestRegressor(max_depth=2, random_state=0)\n",
    "clf.fit(X_train, y_train)\n",
    "y_pred = clf.predict(X_test)\n",
    "clf.score(X_test, y_test)\n",
    "print(type(y_pred))"
   ]
  },
  {
   "cell_type": "code",
   "execution_count": 23,
   "metadata": {},
   "outputs": [
    {
     "name": "stdout",
     "output_type": "stream",
     "text": [
      "96.58520467449426 17044.829332702015\n"
     ]
    }
   ],
   "source": [
    "from sklearn import metrics\n",
    "mae = metrics.mean_absolute_error(y_test,y_pred)\n",
    "mse = metrics.mean_squared_error(y_test,y_pred)\n",
    "print(mae,mse)"
   ]
  },
  {
   "cell_type": "code",
   "execution_count": 24,
   "metadata": {
    "scrolled": true
   },
   "outputs": [
    {
     "name": "stdout",
     "output_type": "stream",
     "text": [
      "574.7740915293599 32.0\n",
      "648.9584794183123 2.0\n",
      "606.5997891709662 3.0\n",
      "665.1510362681556 23.0\n",
      "665.1510362681556 32.0\n",
      "646.3271640914647 35.0\n",
      "652.3094583272741 2.0\n",
      "608.4962489593531 23.0\n",
      "665.1510362681556 32.0\n",
      "665.1510362681556 23.0\n",
      "652.3094583272741 32.0\n",
      "600.668979899362 23.0\n",
      "665.1510362681556 23.0\n",
      "665.1510362681556 32.0\n",
      "652.3094583272741 32.0\n",
      "652.3094583272741 32.0\n",
      "652.3094583272741 32.0\n",
      "665.1510362681556 23.0\n",
      "604.0199588083238 23.0\n",
      "654.3091985390842 32.0\n",
      "652.3094583272741 2.0\n",
      "665.1510362681556 23.0\n",
      "591.1783808674423 2.0\n",
      "665.1510362681556 32.0\n",
      "665.1510362681556 23.0\n",
      "665.1510362681556 32.0\n",
      "609.1384638979713 35.0\n",
      "652.3094583272741 2.0\n",
      "665.1510362681556 32.0\n",
      "665.1510362681556 32.0\n",
      "665.1510362681556 32.0\n",
      "665.1510362681556 32.0\n",
      "652.3094583272741 2.0\n",
      "652.3094583272741 32.0\n",
      "652.3094583272741 32.0\n",
      "665.1510362681556 23.0\n",
      "645.21135140973 35.0\n",
      "652.3094583272741 2.0\n",
      "652.3094583272741 32.0\n",
      "600.5918235969272 35.0\n",
      "652.3094583272741 5.0\n",
      "665.1510362681556 32.0\n",
      "626.382839027965 5.0\n",
      "665.1510362681556 32.0\n",
      "652.3094583272741 32.0\n",
      "665.1510362681556 32.0\n",
      "654.3091985390842 32.0\n",
      "665.1510362681556 23.0\n",
      "665.1510362681556 32.0\n",
      "665.1510362681556 32.0\n",
      "665.1510362681556 32.0\n",
      "665.1510362681556 23.0\n",
      "649.6781430004265 35.0\n",
      "665.1510362681556 23.0\n",
      "652.3094583272741 5.0\n",
      "652.3094583272741 32.0\n",
      "665.1510362681556 32.0\n",
      "623.7515237011173 35.0\n",
      "649.6781430004265 35.0\n",
      "665.1510362681556 23.0\n",
      "652.3094583272741 3.0\n",
      "665.1510362681556 23.0\n",
      "665.1510362681556 23.0\n",
      "665.1510362681556 23.0\n",
      "603.2231389237747 5.0\n",
      "652.3094583272741 2.0\n",
      "665.1510362681556 23.0\n",
      "600.5918235969272 35.0\n",
      "661.8000573591936 23.0\n",
      "665.1510362681556 23.0\n",
      "665.1510362681556 23.0\n",
      "604.0199588083238 32.0\n",
      "660.6842446774589 23.0\n",
      "647.8426667365776 5.0\n",
      "652.3094583272741 23.0\n",
      "665.1510362681556 32.0\n",
      "665.1510362681556 23.0\n",
      "665.1510362681556 23.0\n",
      "647.8426667365776 23.0\n",
      "652.3094583272741 32.0\n",
      "652.3094583272741 32.0\n",
      "652.3094583272741 2.0\n",
      "665.1510362681556 23.0\n",
      "665.1510362681556 32.0\n",
      "658.9916660819946 32.0\n",
      "652.3094583272741 32.0\n",
      "626.382839027965 5.0\n"
     ]
    }
   ],
   "source": [
    "#flood prone subdivisions\n",
    "c=0\n",
    "for i in y_pred:\n",
    "    if i>500:\n",
    "        print(i,X_test[c,0])\n",
    "    c+=1"
   ]
  },
  {
   "cell_type": "markdown",
   "metadata": {},
   "source": [
    "# Model 3 - MultiLinear Regression"
   ]
  },
  {
   "cell_type": "code",
   "execution_count": 25,
   "metadata": {},
   "outputs": [
    {
     "data": {
      "text/plain": [
       "0.5509557836699082"
      ]
     },
     "execution_count": 25,
     "metadata": {},
     "output_type": "execute_result"
    }
   ],
   "source": [
    "from sklearn.linear_model import LinearRegression\n",
    "clf = LinearRegression()\n",
    "clf.fit(X_train, y_train)\n",
    "y_pred = clf.predict(X_test)\n",
    "clf.score(X_test, y_test)"
   ]
  },
  {
   "cell_type": "code",
   "execution_count": 26,
   "metadata": {},
   "outputs": [
    {
     "name": "stdout",
     "output_type": "stream",
     "text": [
      "91.40146397442292 15772.672246086018\n"
     ]
    }
   ],
   "source": [
    "from sklearn import metrics\n",
    "mae = metrics.mean_absolute_error(y_test,y_pred)\n",
    "mse = metrics.mean_squared_error(y_test,y_pred)\n",
    "print(mae,mse)"
   ]
  },
  {
   "cell_type": "code",
   "execution_count": 27,
   "metadata": {},
   "outputs": [
    {
     "name": "stdout",
     "output_type": "stream",
     "text": [
      "[514.78864492] 23.0\n",
      "[534.92952423] 2.0\n",
      "[574.64204223] 32.0\n",
      "[654.29832329] 2.0\n",
      "[527.67234944] 3.0\n",
      "[668.03290066] 23.0\n",
      "[659.82298067] 32.0\n",
      "[532.0802617] 23.0\n",
      "[627.24129813] 2.0\n",
      "[516.22726826] 5.0\n",
      "[641.58100598] 23.0\n",
      "[573.81342959] 32.0\n",
      "[650.908223] 23.0\n",
      "[621.26493461] 32.0\n",
      "[685.88967844] 23.0\n",
      "[785.69443093] 32.0\n",
      "[620.14868141] 32.0\n",
      "[883.78338939] 32.0\n",
      "[503.69977777] 5.0\n",
      "[672.58819362] 32.0\n",
      "[725.52210986] 23.0\n",
      "[512.21993166] 23.0\n",
      "[772.17590887] 32.0\n",
      "[547.55020271] 32.0\n",
      "[697.3030787] 2.0\n",
      "[699.02892414] 23.0\n",
      "[639.83111029] 2.0\n",
      "[802.90037012] 32.0\n",
      "[645.92854251] 23.0\n",
      "[535.53765096] 5.0\n",
      "[798.80288354] 32.0\n",
      "[550.37082511] 35.0\n",
      "[593.12764123] 23.0\n",
      "[1063.86405375] 2.0\n",
      "[784.11833956] 32.0\n",
      "[504.65830776] 1.0\n",
      "[556.25769078] 2.0\n",
      "[633.92128996] 32.0\n",
      "[770.03035513] 32.0\n",
      "[714.24464977] 32.0\n",
      "[533.14649389] 5.0\n",
      "[692.15934376] 2.0\n",
      "[719.74161018] 32.0\n",
      "[506.6507238] 3.0\n",
      "[727.50118613] 32.0\n",
      "[661.0242445] 23.0\n",
      "[501.59042177] 35.0\n",
      "[972.75716085] 2.0\n",
      "[614.62015305] 32.0\n",
      "[500.66287268] 35.0\n",
      "[667.14130022] 5.0\n",
      "[519.50323356] 5.0\n",
      "[632.35702621] 32.0\n",
      "[502.25012716] 3.0\n",
      "[569.65178911] 5.0\n",
      "[521.74250654] 23.0\n",
      "[655.84338829] 32.0\n",
      "[774.58497965] 32.0\n",
      "[652.30915673] 32.0\n",
      "[594.02701657] 23.0\n",
      "[699.29068641] 32.0\n",
      "[634.78638917] 23.0\n",
      "[588.77752217] 32.0\n",
      "[677.55392694] 32.0\n",
      "[794.59706412] 32.0\n",
      "[788.19140872] 23.0\n",
      "[521.38804911] 35.0\n",
      "[638.9784422] 23.0\n",
      "[634.20001399] 5.0\n",
      "[610.16080031] 32.0\n",
      "[523.37918586] 3.0\n",
      "[528.04124171] 5.0\n",
      "[880.11894693] 32.0\n",
      "[538.03129162] 5.0\n",
      "[573.7694563] 35.0\n",
      "[641.90548931] 35.0\n",
      "[725.92002942] 23.0\n",
      "[586.38651937] 3.0\n",
      "[723.46402123] 23.0\n",
      "[645.78109527] 23.0\n",
      "[669.65036373] 23.0\n",
      "[537.97320635] 5.0\n",
      "[508.43976936] 5.0\n",
      "[721.67197479] 2.0\n",
      "[794.23486925] 23.0\n",
      "[561.74089829] 35.0\n",
      "[530.094236] 5.0\n",
      "[523.85674525] 23.0\n",
      "[712.82374546] 23.0\n",
      "[580.56384695] 23.0\n",
      "[514.06773136] 5.0\n",
      "[534.21595364] 32.0\n",
      "[582.59568791] 23.0\n",
      "[524.04606564] 2.0\n",
      "[629.79083331] 5.0\n",
      "[632.28978662] 23.0\n",
      "[686.44994358] 32.0\n",
      "[544.50577786] 32.0\n",
      "[662.24692451] 23.0\n",
      "[617.87608158] 23.0\n",
      "[588.01486442] 23.0\n",
      "[662.68878647] 32.0\n",
      "[739.30477289] 32.0\n",
      "[536.01737604] 5.0\n",
      "[689.54684404] 2.0\n",
      "[722.20067348] 23.0\n",
      "[526.06714268] 32.0\n",
      "[722.57228667] 32.0\n",
      "[503.79922691] 35.0\n",
      "[772.98599279] 32.0\n",
      "[596.87911289] 2.0\n",
      "[604.2199672] 32.0\n",
      "[595.58361066] 5.0\n"
     ]
    }
   ],
   "source": [
    "#flood prone subdivisions\n",
    "c=0\n",
    "for i in y_pred:\n",
    "    if i>500:\n",
    "        print(i,X_test[c,0])\n",
    "    c+=1"
   ]
  },
  {
   "cell_type": "markdown",
   "metadata": {},
   "source": [
    "# Model 4 - MLP Regressor\n",
    "A multilayer perceptron (MLP) is a class of feedforward artificial neural network (ANN). ... MLP utilizes a supervised learning technique called backpropagation for training. Its multiple layers and non-linear activation distinguish MLP from a linear perceptron. It can distinguish data that is not linearly separable."
   ]
  },
  {
   "cell_type": "code",
   "execution_count": 28,
   "metadata": {},
   "outputs": [
    {
     "name": "stderr",
     "output_type": "stream",
     "text": [
      "D:\\anaconda\\lib\\site-packages\\sklearn\\neural_network\\_multilayer_perceptron.py:1342: DataConversionWarning: A column-vector y was passed when a 1d array was expected. Please change the shape of y to (n_samples, ), for example using ravel().\n",
      "  y = column_or_1d(y, warn=True)\n"
     ]
    },
    {
     "data": {
      "text/plain": [
       "0.551376852897723"
      ]
     },
     "execution_count": 28,
     "metadata": {},
     "output_type": "execute_result"
    }
   ],
   "source": [
    "from sklearn.neural_network import MLPRegressor\n",
    "clf = MLPRegressor(solver='lbfgs', alpha=1e-5,hidden_layer_sizes=(5, 2), random_state=1)\n",
    "clf.fit(X_train, y_train)\n",
    "y_pred = clf.predict(X_test)\n",
    "clf.score(X_test, y_test)"
   ]
  },
  {
   "cell_type": "code",
   "execution_count": 29,
   "metadata": {},
   "outputs": [
    {
     "name": "stdout",
     "output_type": "stream",
     "text": [
      "91.4226284545516 15757.882194946924\n"
     ]
    }
   ],
   "source": [
    "from sklearn import metrics\n",
    "mae = metrics.mean_absolute_error(y_test,y_pred)\n",
    "mse = metrics.mean_squared_error(y_test,y_pred)\n",
    "print(mae,mse)"
   ]
  },
  {
   "cell_type": "code",
   "execution_count": 30,
   "metadata": {},
   "outputs": [
    {
     "name": "stdout",
     "output_type": "stream",
     "text": [
      "512.1336967611774 23.0\n",
      "512.4125097774979 2.0\n",
      "608.0000545182559 32.0\n",
      "680.5064465552891 2.0\n",
      "536.3288622561134 3.0\n",
      "736.9385127594816 23.0\n",
      "685.3614477110276 32.0\n",
      "603.8963407495901 23.0\n",
      "679.975339928522 2.0\n",
      "638.654227124931 23.0\n",
      "626.4275091910785 32.0\n",
      "689.0830131606632 23.0\n",
      "568.6321898981539 32.0\n",
      "517.1438692163515 23.0\n",
      "760.7390155270068 23.0\n",
      "831.9779485515645 32.0\n",
      "553.1421533538883 23.0\n",
      "564.9296003223704 32.0\n",
      "816.4937245359757 32.0\n",
      "626.2111113382957 32.0\n",
      "743.5278388170223 23.0\n",
      "547.9843422626872 23.0\n",
      "833.7269743798876 32.0\n",
      "597.2978004865945 32.0\n",
      "647.0622177597327 2.0\n",
      "756.1864272074962 23.0\n",
      "580.8712294491602 2.0\n",
      "852.3845941951857 32.0\n",
      "698.3418110202424 23.0\n",
      "838.2682323642105 32.0\n",
      "510.8346995132287 35.0\n",
      "681.3255608446325 23.0\n",
      "1087.1015094554282 2.0\n",
      "811.964305721097 32.0\n",
      "541.8507709189993 4.0\n",
      "511.57364174380467 1.0\n",
      "532.8355847662287 2.0\n",
      "672.4671767478937 32.0\n",
      "802.9301069188328 32.0\n",
      "783.195919140372 32.0\n",
      "501.27558357656267 5.0\n",
      "705.029720324262 2.0\n",
      "663.1434824677184 32.0\n",
      "502.5978122369496 3.0\n",
      "719.5498731677479 32.0\n",
      "706.7791565845637 23.0\n",
      "897.6756010292958 2.0\n",
      "593.9238833828341 32.0\n",
      "566.8192086478891 1.0\n",
      "613.179189890084 5.0\n",
      "692.4628916674641 32.0\n",
      "537.9028865118854 5.0\n",
      "577.6220190158031 23.0\n",
      "703.884905300652 32.0\n",
      "707.3723179663523 32.0\n",
      "646.0671041754872 32.0\n",
      "694.4649294831653 23.0\n",
      "674.2690687385792 32.0\n",
      "687.5438524348125 23.0\n",
      "648.0015930915308 32.0\n",
      "674.3291110806352 32.0\n",
      "845.8605292571939 32.0\n",
      "832.279774631334 23.0\n",
      "683.36201573901 23.0\n",
      "603.1107525690181 5.0\n",
      "559.555134841206 32.0\n",
      "507.0621425563476 3.0\n",
      "894.512016076651 32.0\n",
      "506.1974313236636 5.0\n",
      "529.3038816028961 3.0\n",
      "566.878118339356 35.0\n",
      "575.6810711138056 35.0\n",
      "782.1371381705001 23.0\n",
      "597.4216260371282 3.0\n",
      "751.2194799886202 23.0\n",
      "542.5945417878115 32.0\n",
      "713.5286995216902 23.0\n",
      "751.228825058777 23.0\n",
      "525.5538536937506 5.0\n",
      "643.0292474490159 2.0\n",
      "864.06063840474 23.0\n",
      "506.4063742918301 35.0\n",
      "517.0931230476431 5.0\n",
      "550.6988928807186 23.0\n",
      "738.536507974923 23.0\n",
      "614.0717405918948 23.0\n",
      "501.04411672246664 5.0\n",
      "559.0802175120455 32.0\n",
      "608.848939902043 23.0\n",
      "535.4609620337304 2.0\n",
      "573.8926062754321 5.0\n",
      "599.1623019120354 23.0\n",
      "526.470752570569 36.0\n",
      "709.0763276655096 32.0\n",
      "597.9150114684627 32.0\n",
      "726.9191109101982 23.0\n",
      "660.1041576166506 23.0\n",
      "525.2542973484747 23.0\n",
      "673.1022757727698 32.0\n",
      "703.3514028149533 32.0\n",
      "527.9459916918356 5.0\n",
      "668.4007409452131 2.0\n",
      "764.4658458432087 23.0\n",
      "568.3283989295297 32.0\n",
      "814.6025058653146 32.0\n",
      "512.2722302666401 35.0\n",
      "771.2270179965648 32.0\n",
      "506.7392327752789 2.0\n",
      "557.7407388884014 32.0\n",
      "555.5082071733927 5.0\n"
     ]
    }
   ],
   "source": [
    "#flood prone subdivisions\n",
    "c=0\n",
    "for i in y_pred:\n",
    "    if i>500:\n",
    "        print(i,X_test[c,0])\n",
    "    c+=1"
   ]
  }
 ],
 "metadata": {
  "kernelspec": {
   "display_name": "Python 3",
   "language": "python",
   "name": "python3"
  },
  "language_info": {
   "codemirror_mode": {
    "name": "ipython",
    "version": 3
   },
   "file_extension": ".py",
   "mimetype": "text/x-python",
   "name": "python",
   "nbconvert_exporter": "python",
   "pygments_lexer": "ipython3",
   "version": "3.7.6"
  }
 },
 "nbformat": 4,
 "nbformat_minor": 2
}
